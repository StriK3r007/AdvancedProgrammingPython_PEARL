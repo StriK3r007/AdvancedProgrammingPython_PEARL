{
 "cells": [
  {
   "cell_type": "code",
   "execution_count": 20,
   "id": "3ce0e39d",
   "metadata": {},
   "outputs": [],
   "source": [
    "import numpy as np"
   ]
  },
  {
   "cell_type": "code",
   "execution_count": 10,
   "id": "b39173d4",
   "metadata": {},
   "outputs": [
    {
     "name": "stdout",
     "output_type": "stream",
     "text": [
      "[100  45  35] Tareen\n"
     ]
    }
   ],
   "source": [
    "a = np.array([100, 45, 35])\n",
    "b = np.array([\"Zubair\", \"Ahmed\", \"Tareen\"])\n",
    "print (a, b[2])"
   ]
  },
  {
   "cell_type": "code",
   "execution_count": 14,
   "id": "12b471c5",
   "metadata": {},
   "outputs": [
    {
     "name": "stdout",
     "output_type": "stream",
     "text": [
      "[['Hello']\n",
      " ['World']]\n",
      "2\n"
     ]
    }
   ],
   "source": [
    "c = np.array([[\"Hello\"], [\"World\"]])\n",
    "print(c)\n",
    "print(c.ndim)"
   ]
  },
  {
   "cell_type": "code",
   "execution_count": 17,
   "id": "4bd7a819",
   "metadata": {},
   "outputs": [
    {
     "name": "stdout",
     "output_type": "stream",
     "text": [
      "[[['Third']\n",
      "  ['Dimension']\n",
      "  ['Array']]]\n",
      "3\n"
     ]
    }
   ],
   "source": [
    "d = np.array([[[\"Third\"], [\"Dimension\"], [\"Array\"]]])\n",
    "print (d)\n",
    "print (d.ndim)"
   ]
  },
  {
   "cell_type": "code",
   "execution_count": 70,
   "id": "322ef986",
   "metadata": {},
   "outputs": [
    {
     "name": "stdout",
     "output_type": "stream",
     "text": [
      "[[['Fourth' 'a']\n",
      "  ['Dimensional' 'b']\n",
      "  ['Array' 'c']]]\n",
      "3\n"
     ]
    }
   ],
   "source": [
    "e = np.array([[[\"Fourth\", \"a\"],[\"Dimensional\", \"b\"],[\"Array\", \"c\"]]])\n",
    "print (e)\n",
    "print (e.ndim)"
   ]
  },
  {
   "cell_type": "code",
   "execution_count": 72,
   "id": "b45e9f5d",
   "metadata": {},
   "outputs": [
    {
     "name": "stdout",
     "output_type": "stream",
     "text": [
      "Dimensional\n"
     ]
    }
   ],
   "source": [
    "print (e[0,1,0])"
   ]
  },
  {
   "cell_type": "code",
   "execution_count": 13,
   "id": "c058adbf",
   "metadata": {},
   "outputs": [
    {
     "name": "stdout",
     "output_type": "stream",
     "text": [
      "1\n",
      "2\n",
      "4\n",
      "3\n",
      "5\n",
      "6\n",
      "7\n",
      "8\n"
     ]
    }
   ],
   "source": [
    "f = np.array([[1,2,4,3], [5,6,7,8]])\n",
    "for x in f:\n",
    "    for p in x:\n",
    "        print(p)\n",
    "        \n",
    "#     print(sorted(x))"
   ]
  },
  {
   "cell_type": "code",
   "execution_count": 17,
   "id": "9bcec7f8",
   "metadata": {},
   "outputs": [
    {
     "name": "stdout",
     "output_type": "stream",
     "text": [
      "Nousherwan\n",
      "Zubair\n",
      "Awais\n",
      "Habib\n",
      "Adil\n",
      "Fanoon\n"
     ]
    }
   ],
   "source": [
    "name = np.array([[[\"Nousherwan\", \"Zubair\", \"Awais\"], [\"Habib\", \"Adil\", \"Fanoon\"], [\"Faizan\", \"Rahul\"]]])\n",
    "for n in name:\n",
    "    for i in n:\n",
    "        print(i)"
   ]
  },
  {
   "cell_type": "code",
   "execution_count": 22,
   "id": "d4f1c941",
   "metadata": {},
   "outputs": [
    {
     "name": "stdout",
     "output_type": "stream",
     "text": [
      "1\n",
      "43\n",
      "54\n",
      "32\n",
      "43\n",
      "54\n",
      "67\n",
      "32\n"
     ]
    }
   ],
   "source": [
    "import numpy\n",
    "n = np.array([[[1,43,54,32],[43,54,67,32]]])\n",
    "for ad in numpy.nditer(n):\n",
    "    print(ad)"
   ]
  },
  {
   "cell_type": "code",
   "execution_count": 23,
   "id": "a699588c",
   "metadata": {},
   "outputs": [
    {
     "name": "stdout",
     "output_type": "stream",
     "text": [
      "[1, 2, 3, 4, 5, 6]\n"
     ]
    }
   ],
   "source": [
    "a1 = numpy.array([5,2,4])\n",
    "a2 = numpy.array([3,6,1])\n",
    "\n",
    "aa = numpy.concatenate((a1,a2))\n",
    "print(sorted(aa))"
   ]
  },
  {
   "cell_type": "code",
   "execution_count": null,
   "id": "3b9fa666",
   "metadata": {},
   "outputs": [],
   "source": []
  }
 ],
 "metadata": {
  "kernelspec": {
   "display_name": "Python 3",
   "language": "python",
   "name": "python3"
  },
  "language_info": {
   "codemirror_mode": {
    "name": "ipython",
    "version": 3
   },
   "file_extension": ".py",
   "mimetype": "text/x-python",
   "name": "python",
   "nbconvert_exporter": "python",
   "pygments_lexer": "ipython3",
   "version": "3.8.8"
  }
 },
 "nbformat": 4,
 "nbformat_minor": 5
}
